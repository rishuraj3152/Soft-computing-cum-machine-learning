{
 "cells": [
  {
   "cell_type": "code",
   "execution_count": 1,
   "metadata": {},
   "outputs": [
    {
     "name": "stdout",
     "output_type": "stream",
     "text": [
      "[[41 41 38 ... 41 41 41]\n",
      " [41 42 41 ... 44 41 41]\n",
      " [41 43 39 ... 42 40 40]\n",
      " ...\n",
      " [39 38 38 ... 38 39 37]\n",
      " [40 39 40 ... 38 39 37]\n",
      " [41 42 42 ... 38 38 37]]\n",
      "(50, 1)\n",
      "(100, 1)\n"
     ]
    }
   ],
   "source": [
    "import numpy as np\n",
    "import imageio\n",
    "import matplotlib.pyplot as plt\n",
    "from skimage.io import imshow,imread\n",
    "\n",
    "first=imageio.imread('images/1.gif')\n",
    "print(first)\n",
    "#imageio.imwrite('images/tesla.jpeg',first[:,:])\n",
    "second=imageio.imread('images/2.gif')\n",
    "third=imageio.imread('images/3.gif')\n",
    "fourth=imageio.imread('images/4.gif')\n",
    "data=np.loadtxt(\"river.txt\",dtype=np.int64,delimiter=\",\")\n",
    "X=data[:,0:1]\n",
    "Y=data[:,1:2]\n",
    "data1=np.loadtxt(\"Nonriver.txt\",dtype=np.int64,delimiter=\",\")\n",
    "X2=data1[:,0:1]\n",
    "Y2=data1[:,1:2]\n",
    "print(X.shape)\n",
    "print(X2.shape)"
   ]
  },
  {
   "cell_type": "code",
   "execution_count": 2,
   "metadata": {},
   "outputs": [
    {
     "name": "stdout",
     "output_type": "stream",
     "text": [
      "The river mean matrix is [[41.8  27.16 28.68 34.64]]\n",
      "The covariance matrix for River is [[ 7.32    7.112   7.476   1.208 ]\n",
      " [ 7.112   8.2944  9.7712  2.6176]\n",
      " [ 7.476   9.7712 21.6976  6.6848]\n",
      " [ 1.208   2.6176  6.6848 32.1104]]\n",
      "The nonriver mean matrix is [[40.32 25.75 26.3  35.26]]\n",
      "The covariance matrix for Non-River is [[ 7.7376  7.04    9.154   2.2468]\n",
      " [ 7.04    7.2275  9.275   2.825 ]\n",
      " [ 9.154   9.275  14.89    2.582 ]\n",
      " [ 2.2468  2.825   2.582  29.5324]]\n"
     ]
    }
   ],
   "source": [
    "def cal_cov(x,y):\n",
    "    m=len(x)\n",
    "    xmean=np.mean(x)\n",
    "    ymean=np.mean(y)\n",
    "    x=x-xmean\n",
    "    y=y-ymean\n",
    "    temp=np.transpose(x)*y\n",
    "    temp=temp/m\n",
    "    return temp[0,0]\n",
    "\n",
    "\n",
    "##calculating covariance matrix for River dataset\n",
    "red=[]\n",
    "green=[]\n",
    "blue=[]\n",
    "intensity=[]\n",
    "for i in range(0,len(X)):\n",
    "    red.append(first[X[i],Y[i]])\n",
    "    green.append(second[X[i],Y[i]])\n",
    "    blue.append(third[X[i],Y[i]])\n",
    "    intensity.append(fourth[X[i],Y[i]])\n",
    "red=np.matrix(red)\n",
    "green=np.matrix(green)\n",
    "blue=np.matrix(blue)\n",
    "intensity=np.matrix(intensity)\n",
    "river_mean=np.matrix([np.mean(red),np.mean(green),np.mean(blue),np.mean(intensity)])\n",
    "print(\"The river mean matrix is\",river_mean)\n",
    "rivercov_matrix=[[cal_cov(red,red),cal_cov(red,green),cal_cov(red,blue),cal_cov(red,intensity)],\n",
    "   [cal_cov(green,red),cal_cov(green,green),cal_cov(green,blue),cal_cov(green,intensity)],\n",
    "   [cal_cov(blue,red),cal_cov(blue,green),cal_cov(blue,blue),cal_cov(blue,intensity)],\n",
    "   [cal_cov(intensity,red),cal_cov(intensity,green),cal_cov(intensity,blue),cal_cov(intensity,intensity)]]\n",
    "rivercov_matrix=np.matrix(rivercov_matrix)\n",
    "print(\"The covariance matrix for River is\",rivercov_matrix)\n",
    "\n",
    "##calculating covariance matrix for non-river dataset\n",
    "red=[]\n",
    "green=[]\n",
    "blue=[]\n",
    "intensity=[]\n",
    "for i in range(0,len(X2)):\n",
    "    red.append(first[X2[i],Y2[i]])\n",
    "    green.append(second[X2[i],Y2[i]])\n",
    "    blue.append(third[X2[i],Y2[i]])\n",
    "    intensity.append(fourth[X2[i],Y2[i]])\n",
    "red=np.matrix(red)\n",
    "green=np.matrix(green)\n",
    "blue=np.matrix(blue)\n",
    "intensity=np.matrix(intensity)\n",
    "nonriver_mean=np.matrix([np.mean(red),np.mean(green),np.mean(blue),np.mean(intensity)])\n",
    "print(\"The nonriver mean matrix is\",nonriver_mean)\n",
    "nonrivercov_matrix=[[cal_cov(red,red),cal_cov(red,green),cal_cov(red,blue),cal_cov(red,intensity)],\n",
    "   [cal_cov(green,red),cal_cov(green,green),cal_cov(green,blue),cal_cov(green,intensity)],\n",
    "   [cal_cov(blue,red),cal_cov(blue,green),cal_cov(blue,blue),cal_cov(blue,intensity)],\n",
    "   [cal_cov(intensity,red),cal_cov(intensity,green),cal_cov(intensity,blue),cal_cov(intensity,intensity)]]\n",
    "nonrivercov_matrix=np.matrix(nonrivercov_matrix)\n",
    "print(\"The covariance matrix for Non-River is\",nonrivercov_matrix)"
   ]
  },
  {
   "cell_type": "code",
   "execution_count": 3,
   "metadata": {},
   "outputs": [],
   "source": [
    "##creating test-data\n",
    "outimage=[]\n",
    "capitalp1=0.99\n",
    "capitalp2=0.01\n",
    "for i in range(0,512):\n",
    "    temp=[]\n",
    "    for j in range(0,512):\n",
    "        test_data=[first[i,j],second[i,j],third[i,j],fourth[i,j]]\n",
    "        test_data=np.matrix(test_data)\n",
    "        test_data1=test_data-river_mean\n",
    "        test_data2=test_data-nonriver_mean\n",
    "        riverclass=test_data1*np.linalg.inv(rivercov_matrix)*np.transpose(test_data1)\n",
    "        nonriverclass=test_data2*np.linalg.inv(nonrivercov_matrix)*np.transpose(test_data2)\n",
    "        smallp1=-(0.5)*(1/np.sqrt(np.linalg.det(rivercov_matrix)))*np.exp(riverclass)\n",
    "        smallp2=-(0.5)*(1/np.sqrt(np.linalg.det(nonrivercov_matrix)))*np.exp(nonriverclass)\n",
    "        if((capitalp1*smallp1)>=(capitalp2*smallp2)):\n",
    "            temp.append(255)\n",
    "        else:\n",
    "            temp.append(0)\n",
    "    outimage.append(temp)\n",
    "\n",
    "temp=outimage\n",
    "outimage=np.uint8(np.array(outimage))\n",
    "imageio.imwrite('images/sampleoutput.jpeg',outimage[:,:])"
   ]
  },
  {
   "cell_type": "code",
   "execution_count": 6,
   "metadata": {},
   "outputs": [
    {
     "name": "stdout",
     "output_type": "stream",
     "text": [
      "Accuracy achieved is 89.70184326171875\n"
     ]
    }
   ],
   "source": [
    "##calculating Accuracy\n",
    "load_img=imageio.imread('images/PDCV1.jpeg')\n",
    "count=0\n",
    "for i in range(0,512):\n",
    "    for j in range(0,512):\n",
    "        if(load_img[i][j]==temp[i][j]):\n",
    "            count+=1\n",
    "accuracy=(count*100)/(512*512)\n",
    "print(\"Accuracy achieved is\",accuracy)"
   ]
  },
  {
   "cell_type": "code",
   "execution_count": null,
   "metadata": {},
   "outputs": [],
   "source": []
  }
 ],
 "metadata": {
  "kernelspec": {
   "display_name": "Python 3",
   "language": "python",
   "name": "python3"
  },
  "language_info": {
   "codemirror_mode": {
    "name": "ipython",
    "version": 3
   },
   "file_extension": ".py",
   "mimetype": "text/x-python",
   "name": "python",
   "nbconvert_exporter": "python",
   "pygments_lexer": "ipython3",
   "version": "3.7.1"
  }
 },
 "nbformat": 4,
 "nbformat_minor": 2
}

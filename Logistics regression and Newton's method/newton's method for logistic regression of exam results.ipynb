{
 "cells": [
  {
   "cell_type": "code",
   "execution_count": 142,
   "metadata": {},
   "outputs": [
    {
     "name": "stdout",
     "output_type": "stream",
     "text": [
      "(100, 1)\n"
     ]
    }
   ],
   "source": [
    "import csv\n",
    "import numpy as np\n",
    "import pandas as pd\n",
    "from sklearn.model_selection import train_test_split\n",
    "import matplotlib.pyplot as plt\n",
    "x=[]\n",
    "y=[]\n",
    "bhagyax0=[]\n",
    "bhagyax1=[]\n",
    "with open(\"data1.csv\",\"r\") as csvfile:\n",
    "    lines=csv.reader(csvfile)\n",
    "    dataset=list(lines)\n",
    "    for i in range(len(dataset)):\n",
    "        temp=dataset[i][0].split(\",\")\n",
    "        a,b=float(temp[0]),float(temp[1])\n",
    "        c=int(temp[2],2)\n",
    "        if(c==0):\n",
    "            bhagyax0.append([a,b])\n",
    "        if(c==1):\n",
    "            bhagyax1.append([a,b])\n",
    "        x.append([a,b])\n",
    "        y.append([c])\n",
    "one=np.ones([len(x),1])\n",
    "print(one.shape)\n",
    "x=np.concatenate((one,x),axis=1)\n",
    "x=(x-np.mean(x))/np.std(x)\n",
    "y=np.array(y)\n",
    "bhagyax0=np.array(bhagyax0)\n",
    "bhagyax1=np.array(bhagyax1)\n",
    "bhagyax0=(bhagyax0-np.mean(bhagyax0))/np.std(bhagyax0)\n",
    "bhagyax1=(bhagyax1-np.mean(bhagyax1))/np.std(bhagyax1)"
   ]
  },
  {
   "cell_type": "code",
   "execution_count": 143,
   "metadata": {},
   "outputs": [
    {
     "name": "stdout",
     "output_type": "stream",
     "text": [
      "(70, 3) (30, 3) (70, 1) (30, 1)\n",
      "(1, 3)\n"
     ]
    }
   ],
   "source": [
    "count=0\n",
    "x_train,x_test,y_train,y_test=train_test_split(x,y,random_state=50,test_size=.3)\n",
    "theta = np.matrix(np.zeros(3))\n",
    "print(x_train.shape,x_test.shape,y_train.shape,y_test.shape)\n",
    "bh0=[]\n",
    "bh1=[]\n",
    "bh2=[]\n",
    "for i in range(0,len(x_train)):\n",
    "    bh2.append(x_train[i][2])\n",
    "    bh1.append(x_train[i][1])\n",
    "    bh0.append(x_train[i][0])\n",
    "bh0=np.matrix(bh0).T\n",
    "bh1=np.matrix(bh1).T\n",
    "bh2=np.matrix(bh2).T\n",
    "print(theta.shape)"
   ]
  },
  {
   "cell_type": "code",
   "execution_count": 144,
   "metadata": {},
   "outputs": [
    {
     "name": "stdout",
     "output_type": "stream",
     "text": [
      "parameters for regression: [[3.82051223 4.6552503  4.76798595]]\n",
      "correct predictions out of 30 test points is  26\n",
      "Accuracy achieved= 86.66666666666667 %\n"
     ]
    }
   ],
   "source": [
    "def sigmoid(x,theta):\n",
    "    z=x*(theta.T)\n",
    "    return 1.0/(1.0+np.exp(-z))\n",
    "\n",
    "def log_likelihood(x,y,theta):\n",
    "    sigmoid_probs=sigmoid(x,theta)\n",
    "    return np.sum((-1)*y.T*np.log(sigmoid_probs)-(1-y).T*np.log(1-sigmoid_probs))/len(y)\n",
    "                  \n",
    "def gradient(x,y,theta):\n",
    "    sigmoid_probs = sigmoid(x, theta)\n",
    "    loss=sigmoid_probs-y\n",
    "    return (loss.T*x)/len(x)\n",
    "\n",
    "\n",
    "def hessian1(x,y,theta):\n",
    "    l=[]\n",
    "    s=sigmoid(x,theta)\n",
    "    for i in range(0,s.shape[0]):\n",
    "        l.append(0.25)\n",
    "    D=np.diag(l)\n",
    "    temp=np.dot(D,x)\n",
    "    H=np.dot((x.T),temp)\n",
    "    return H/len(x)\n",
    "\n",
    "delta_l=np.Infinity\n",
    "l=log_likelihood(x_train,y_train,theta)\n",
    "dell=.0000000001\n",
    "iters=15\n",
    "i=0\n",
    "cost=[]\n",
    "iterations=[]\n",
    "while abs(delta_l)>dell and i<iters:\n",
    "    iterations.append(i)\n",
    "    i+=1\n",
    "    g=gradient(x_train,y_train,theta)\n",
    "    g=np.squeeze(g)\n",
    "    hess=hessian1(x_train,y_train,theta)\n",
    "    h_inv=np.linalg.inv(hess)\n",
    "    temp=np.dot(h_inv,g.T)\n",
    "    \n",
    "    #updating theta\n",
    "    theta=theta-(temp.T)\n",
    "    l_new=log_likelihood(x_train,y_train,theta)\n",
    "    delta_l=l-l_new\n",
    "    l=l_new\n",
    "    \n",
    "print(\"parameters for regression:\",theta)\n",
    "\n",
    "##calculating Accuracy of the test data\n",
    "tempy=np.matmul(x_test,theta.transpose())\n",
    "tempy=1/(1+np.exp((-1)*tempy))\n",
    "tempy=np.where(tempy>=0.5,1,0)\n",
    "tempy=np.squeeze(tempy)\n",
    "for i in range(0,len(tempy)):\n",
    "    if(tempy[i]==y_test[i]):\n",
    "        count=count+1\n",
    "print(\"correct predictions out of 30 test points is \",count)\n",
    "print(\"Accuracy achieved=\",count/len(tempy)*100,\"%\")"
   ]
  },
  {
   "cell_type": "code",
   "execution_count": 147,
   "metadata": {},
   "outputs": [
    {
     "data": {
      "image/png": "[encoded data removed]",
      "text/plain": [
       "<Figure size 432x288 with 1 Axes>"
      ]
     },
     "metadata": {
      "needs_background": "light"
     },
     "output_type": "display_data"
    }
   ],
   "source": [
    "##Using entire dataset for plotting the graph as there are lesser test points\n",
    "plt.scatter([bhagyax0[:,0]],[bhagyax0[:,1]],c='b',label='y=0')\n",
    "plt.scatter([bhagyax1[:,0]],[bhagyax1[:,1]],c='r',label='y=1')\n",
    "\n",
    "x1=np.arange(-2,2,0.1)\n",
    "x2=-(theta[0,0]+theta[0,1]*x1)/theta[0,2]\n",
    "plt.plot(x1,x2,c='k',label='regression line')\n",
    "plt.xlabel('x1')\n",
    "plt.ylabel('x2')\n",
    "plt.legend()\n",
    "plt.show()"
   ]
  },
  {
   "cell_type": "code",
   "execution_count": null,
   "metadata": {},
   "outputs": [],
   "source": []
  }
 ],
 "metadata": {
  "kernelspec": {
   "display_name": "Python 3",
   "language": "python",
   "name": "python3"
  },
  "language_info": {
   "codemirror_mode": {
    "name": "ipython",
    "version": 3
   },
   "file_extension": ".py",
   "mimetype": "text/x-python",
   "name": "python",
   "nbconvert_exporter": "python",
   "pygments_lexer": "ipython3",
   "version": "3.7.1"
  }
 },
 "nbformat": 4,
 "nbformat_minor": 2
}

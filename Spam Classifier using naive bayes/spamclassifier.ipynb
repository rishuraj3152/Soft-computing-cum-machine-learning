{
 "cells": [
  {
   "cell_type": "code",
   "execution_count": 6,
   "metadata": {},
   "outputs": [
    {
     "data": {
      "text/html": [
       "<div>\n",
       "<style scoped>\n",
       "    .dataframe tbody tr th:only-of-type {\n",
       "        vertical-align: middle;\n",
       "    }\n",
       "\n",
       "    .dataframe tbody tr th {\n",
       "        vertical-align: top;\n",
       "    }\n",
       "\n",
       "    .dataframe thead th {\n",
       "        text-align: right;\n",
       "    }\n",
       "</style>\n",
       "<table border=\"1\" class=\"dataframe\">\n",
       "  <thead>\n",
       "    <tr style=\"text-align: right;\">\n",
       "      <th></th>\n",
       "      <th>v1</th>\n",
       "      <th>v2</th>\n",
       "      <th>NUM_LABEL</th>\n",
       "    </tr>\n",
       "  </thead>\n",
       "  <tbody>\n",
       "    <tr>\n",
       "      <th>0</th>\n",
       "      <td>ham</td>\n",
       "      <td>Go until jurong point, crazy.. Available only ...</td>\n",
       "      <td>0</td>\n",
       "    </tr>\n",
       "    <tr>\n",
       "      <th>1</th>\n",
       "      <td>ham</td>\n",
       "      <td>Ok lar... Joking wif u oni...</td>\n",
       "      <td>0</td>\n",
       "    </tr>\n",
       "    <tr>\n",
       "      <th>2</th>\n",
       "      <td>spam</td>\n",
       "      <td>Free entry in 2 a wkly comp to win FA Cup fina...</td>\n",
       "      <td>1</td>\n",
       "    </tr>\n",
       "    <tr>\n",
       "      <th>3</th>\n",
       "      <td>ham</td>\n",
       "      <td>U dun say so early hor... U c already then say...</td>\n",
       "      <td>0</td>\n",
       "    </tr>\n",
       "    <tr>\n",
       "      <th>4</th>\n",
       "      <td>ham</td>\n",
       "      <td>Nah I don't think he goes to usf, he lives aro...</td>\n",
       "      <td>0</td>\n",
       "    </tr>\n",
       "  </tbody>\n",
       "</table>\n",
       "</div>"
      ],
      "text/plain": [
       "     v1                                                 v2  NUM_LABEL\n",
       "0   ham  Go until jurong point, crazy.. Available only ...          0\n",
       "1   ham                      Ok lar... Joking wif u oni...          0\n",
       "2  spam  Free entry in 2 a wkly comp to win FA Cup fina...          1\n",
       "3   ham  U dun say so early hor... U c already then say...          0\n",
       "4   ham  Nah I don't think he goes to usf, he lives aro...          0"
      ]
     },
     "execution_count": 6,
     "metadata": {},
     "output_type": "execute_result"
    }
   ],
   "source": [
    "import numpy as np\n",
    "import matplotlib.pyplot as plt\n",
    "import pandas as pd\n",
    "import re\n",
    "import math\n",
    "\n",
    "from nltk.tokenize import word_tokenize\n",
    "from nltk.corpus import stopwords\n",
    "from nltk.corpus import words\n",
    "from nltk.stem.lancaster import LancasterStemmer\n",
    "\n",
    "from sklearn.naive_bayes import MultinomialNB,GaussianNB\n",
    "from sklearn.feature_extraction.text import CountVectorizer,TfidfVectorizer\n",
    "from sklearn.model_selection import train_test_split\n",
    "from sklearn.metrics import accuracy_score\n",
    "data=pd.read_csv(\"spam.csv\",encoding=\"ISO-8859-1\")\n",
    "data=data.iloc[:,0:2]\n",
    "data['NUM_LABEL']=data.v1.map({'ham':0,'spam':1})\n",
    "data.head()"
   ]
  },
  {
   "cell_type": "code",
   "execution_count": 7,
   "metadata": {
    "scrolled": true
   },
   "outputs": [
    {
     "name": "stdout",
     "output_type": "stream",
     "text": [
      "[0 1] [3399  501]\n"
     ]
    }
   ],
   "source": [
    "def clean_data(text):\n",
    "    txt=str(text)\n",
    "    txt=re.sub(r'[^A-Za-z0-9\\s]',r'',txt)\n",
    "    txt=re.sub(r'\\n',r' ',txt)\n",
    "    txt=\" \".join([i.lower() for i in txt.split()])\n",
    "    txt=\" \".join([w for w in word_tokenize(txt)])\n",
    "    \n",
    "    stops=set(stopwords.words(\"english\"))\n",
    "    txt=\" \".join([w for w in txt.split() if w not in stops])\n",
    "    \n",
    "    stemmer=LancasterStemmer()\n",
    "    txt=\" \".join([stemmer.stem(w) for w in txt.split()])\n",
    "    return txt\n",
    "\n",
    "data['v2']=data['v2'].map(lambda x:clean_data(x))\n",
    "\n",
    "##collecting information from data\n",
    "x_train,x_test,y_train,y_test=train_test_split(data.v2,data.NUM_LABEL,random_state=50,test_size=0.3)\n",
    "label,freq=np.unique(y_train,return_counts=True)\n",
    "print(label,freq)\n",
    "prob_ham=freq[0]/(freq[0]+freq[1])\n",
    "prob_spam=freq[1]/(freq[0]+freq[1])\n",
    "\n",
    "#creating dictionary for ham and spam containing frequencies for words\n",
    "dicham={}\n",
    "dicspam={}\n",
    "for i in range(0,len(x_train)):\n",
    "    if(np.array(y_train)[i]==0):\n",
    "        for w in np.array(x_train)[i].split():\n",
    "            if w not in dicham:\n",
    "                dicham[w]=1\n",
    "            else:\n",
    "                dicham[w]=dicham[w]+1\n",
    "    else:\n",
    "        for w in np.array(x_train)[i].split():\n",
    "            if w not in dicspam:\n",
    "                dicspam[w]=1\n",
    "            else:\n",
    "                dicspam[w]=dicspam[w]+1\n",
    "                \n",
    "##totaluniquewords is total number of unique words in the training data set\n",
    "totaluniquewords=len(dicspam)+len(dicham)\n",
    "totalspamwords=0\n",
    "for i in dicspam.values():\n",
    "    totalspamwords=totalspamwords+i\n",
    "totalhamwords=0\n",
    "for i in dicham.values():\n",
    "    totalhamwords=totalhamwords+i\n"
   ]
  },
  {
   "cell_type": "code",
   "execution_count": 8,
   "metadata": {},
   "outputs": [
    {
     "name": "stdout",
     "output_type": "stream",
     "text": [
      "correct predictions out of 1672 is count 1625\n",
      "accuracy is 97.18899521531101\n"
     ]
    }
   ],
   "source": [
    "count=0\n",
    "for i in range(0,len(x_test)):\n",
    "    sum1=np.log(prob_ham)\n",
    "    sum2=np.log(prob_spam)\n",
    "    for w in np.array(x_test)[i].split():\n",
    "        if w in dicham:\n",
    "            temp=math.log((dicham[w]+1)/(freq[0]+totaluniquewords))\n",
    "        else:\n",
    "            temp=math.log(1/(freq[0]+totaluniquewords))\n",
    "        sum1=sum1+temp\n",
    "        if w in dicspam:\n",
    "            temp=math.log((dicspam[w]+1)/(freq[1]+totaluniquewords))\n",
    "        else:\n",
    "            temp=math.log(1/(freq[1]+totaluniquewords))\n",
    "        sum2=sum2+temp\n",
    "    if(sum1>sum2):\n",
    "        result=0\n",
    "    else:\n",
    "        result=1\n",
    "    if(np.array(y_test)[i]==result):\n",
    "        count=count+1\n",
    "print(\"correct predictions out of\",len(y_test),\"is count\",count)\n",
    "print(\"accuracy is\",(count*100)/len(y_test))"
   ]
  },
  {
   "cell_type": "code",
   "execution_count": 9,
   "metadata": {},
   "outputs": [
    {
     "name": "stdout",
     "output_type": "stream",
     "text": [
      "mail is not spam\n"
     ]
    }
   ],
   "source": [
    "##enter test mail\n",
    "a=\"U dun say so early hor... U c already then say\"\n",
    "sum1=np.log(prob_ham)\n",
    "sum2=np.log(prob_spam)\n",
    "for w in a.split():\n",
    "    if w in dicham:\n",
    "        temp=math.log((dicham[w]+1)/(freq[0]+totaluniquewords))\n",
    "    else:\n",
    "        temp=math.log(1/(freq[0]+totaluniquewords))\n",
    "    sum1=sum1+temp\n",
    "    if w in dicspam:\n",
    "        temp=math.log((dicspam[w]+1)/(freq[1]+totaluniquewords))\n",
    "    else:\n",
    "        temp=math.log(1/(freq[1]+totaluniquewords))\n",
    "    sum2=sum2+temp\n",
    "if(sum1>sum2):\n",
    "    print(\"mail is not spam\")\n",
    "else:\n",
    "    print(\"mail is spam\")\n",
    "\n",
    "\n"
   ]
  },
  {
   "cell_type": "code",
   "execution_count": null,
   "metadata": {},
   "outputs": [],
   "source": []
  }
 ],
 "metadata": {
  "kernelspec": {
   "display_name": "Python 3",
   "language": "python",
   "name": "python3"
  },
  "language_info": {
   "codemirror_mode": {
    "name": "ipython",
    "version": 3
   },
   "file_extension": ".py",
   "mimetype": "text/x-python",
   "name": "python",
   "nbconvert_exporter": "python",
   "pygments_lexer": "ipython3",
   "version": "3.7.1"
  }
 },
 "nbformat": 4,
 "nbformat_minor": 2
}
